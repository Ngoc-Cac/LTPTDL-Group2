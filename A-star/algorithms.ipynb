{
 "cells": [
  {
   "cell_type": "code",
   "execution_count": null,
   "metadata": {
    "vscode": {
     "languageId": "plaintext"
    }
   },
   "outputs": [],
   "source": [
    "from math import inf\n",
    "from pandas import DataFrame, Series\n",
    "\n",
    "from PriorityQueue import PriorityQueue\n",
    "from Node import Node\n",
    "\n",
    "\n",
    "from typing import Iterable, Optional\n",
    "\n",
    "\n",
    "def astar(nodes: Iterable[Node], adjacency_matrix: DataFrame,\n",
    "          source: Node, target: Node) -> Series:\n",
    "    my_queue: PriorityQueue[Node] = PriorityQueue()\n",
    "    previous: Series[Optional[Node]] = Series([None] * len(nodes), [node.id for node in nodes])\n",
    "\n",
    "    for node in nodes: node.h_distance = inf\n",
    "    \n",
    "    source.distance = 0\n",
    "    my_queue.push(source)\n",
    "    while my_queue:\n",
    "        cur = my_queue.pop()\n",
    "\n",
    "        if cur.id == target.id: return previous\n",
    "        \n",
    "        for neighbour in cur.neighbours:\n",
    "            neighbour_dist = cur.distance + adjacency_matrix[neighbour.id][cur.id]\n",
    "            neighbour_h_dist = cur.heuristic(neighbour)\n",
    "            if neighbour_dist + neighbour_h_dist < neighbour.distance + neighbour.h_distance:\n",
    "                neighbour.distance = neighbour_dist\n",
    "                neighbour.h_distance = neighbour_h_dist\n",
    "                previous[neighbour.id] = cur\n",
    "                my_queue.push(neighbour)\n",
    "\n",
    "    return previous"
   ]
  }
 ],
 "metadata": {
  "language_info": {
   "name": "python"
  }
 },
 "nbformat": 4,
 "nbformat_minor": 2
}
