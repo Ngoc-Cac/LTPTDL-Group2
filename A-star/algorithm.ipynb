{
 "cells": [
  {
   "cell_type": "code",
   "execution_count": 4,
   "metadata": {},
   "outputs": [],
   "source": [
    "from PriorityQueue import PriorityQueue\n",
    "from Cell import Position, Cell\n",
    "\n",
    "\n",
    "from typing import Iterable, Optional\n",
    "\n",
    "def path_traceback(start_state: Cell, goal_state: Cell) -> list[Cell]:\n",
    "    path = []\n",
    "    while goal_state != start_state:\n",
    "        path.append(goal_state)\n",
    "        goal_state = goal_state.parent\n",
    "    path.append(start_state)\n",
    "    return list(reversed(path))\n",
    "\n",
    "def astar_vacuum(grid_dim: tuple[int, int],\n",
    "                 dirty_cells: Iterable[Position],\n",
    "                 start: Position, *,\n",
    "                 do_traceback: bool = False)\\\n",
    "                -> tuple[Cell, Optional[list[Cell]]]:\n",
    "    my_queue: PriorityQueue[Cell] = PriorityQueue()\n",
    "\n",
    "    start_node = Cell(position=start, grid_dim=grid_dim, dirty_cells=dirty_cells)\n",
    "    start_node.calc_cost()\n",
    "    my_queue.push(start_node)\n",
    "    while my_queue:\n",
    "        cur = my_queue.pop()\n",
    "\n",
    "        if len(cur.dirty_cells) == 0: break\n",
    "        \n",
    "        for neighbour in cur.expand_cell():\n",
    "            if my_queue.get_attr(neighbour, 'cost', default_value=neighbour.cost + 1) > neighbour.cost:\n",
    "                my_queue.push(neighbour)\n",
    "\n",
    "    traceback = path_traceback(start_node, cur) if do_traceback else None\n",
    "    return cur, traceback"
   ]
  },
  {
   "cell_type": "code",
   "execution_count": 5,
   "metadata": {},
   "outputs": [],
   "source": [
    "dirty = [Position(1, 1),\n",
    "         Position(1, 6),\n",
    "         Position(3, 8),\n",
    "         Position(5, 8),\n",
    "         Position(8, 6)]\n",
    "start = Position(4, 5)\n",
    "grid_dim = (8, 8)"
   ]
  },
  {
   "cell_type": "code",
   "execution_count": 6,
   "metadata": {},
   "outputs": [],
   "source": [
    "goal = astar_vacuum(grid_dim, dirty, start, do_traceback=True)"
   ]
  },
  {
   "cell_type": "code",
   "execution_count": 8,
   "metadata": {},
   "outputs": [
    {
     "name": "stdout",
     "output_type": "stream",
     "text": [
      "Start at cell (4, 5) with cost 0\n",
      "Suck cell (1, 6) with cost 7\n",
      "Suck cell (3, 8) with cost 15\n",
      "Suck cell (5, 8) with cost 25\n",
      "Suck cell (8, 6) with cost 39\n",
      "Suck cell (1, 1) with cost 64\n"
     ]
    }
   ],
   "source": [
    "for i, cell in enumerate(goal[1]):\n",
    "    action = 'Start at' if i == 0 else 'Suck'\n",
    "    print(f\"{action} cell {cell.position} with cost {cell.cost}\")"
   ]
  }
 ],
 "metadata": {
  "kernelspec": {
   "display_name": "Python 3",
   "language": "python",
   "name": "python3"
  },
  "language_info": {
   "codemirror_mode": {
    "name": "ipython",
    "version": 3
   },
   "file_extension": ".py",
   "mimetype": "text/x-python",
   "name": "python",
   "nbconvert_exporter": "python",
   "pygments_lexer": "ipython3",
   "version": "3.12.1"
  }
 },
 "nbformat": 4,
 "nbformat_minor": 2
}
