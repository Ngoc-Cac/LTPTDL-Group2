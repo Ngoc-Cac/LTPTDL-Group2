{
 "cells": [
  {
   "cell_type": "code",
   "execution_count": 47,
   "metadata": {},
   "outputs": [],
   "source": [
    "from PriorityQueue import PriorityQueue\n",
    "from Cell import Position, Cell\n",
    "\n",
    "\n",
    "from typing import Iterable, Optional\n",
    "\n",
    "def path_traceback(start_state: Cell, goal_state: Cell) -> list[Cell]:\n",
    "    path = []\n",
    "    while goal_state != start_state:\n",
    "        path.append(goal_state)\n",
    "        goal_state = goal_state.parent\n",
    "    path.append(start_state)\n",
    "    return list(reversed(path))\n",
    "\n",
    "def astar_vacuum(grid_dim: tuple[int, int],\n",
    "                 dirty_cells: Iterable[Position],\n",
    "                 start: Position, *,\n",
    "                 do_traceback: bool = False)\\\n",
    "                -> tuple[Cell, Optional[list[Cell]]]:\n",
    "    my_queue: PriorityQueue[Cell] = PriorityQueue()\n",
    "    visited = {}\n",
    "    goals = []\n",
    "\n",
    "    start_node = Cell(position=start, action='move', status='clean',\n",
    "                      grid_dim=grid_dim, dirty_cells=dirty_cells)\n",
    "    start_node.calc_cost()\n",
    "    my_queue.push(start_node)\n",
    "    while my_queue:\n",
    "        cur = my_queue.pop()\n",
    "\n",
    "        if len(cur.dirty_cells) == 0:\n",
    "            goals.append(cur)\n",
    "            visited[cur] = cur\n",
    "            continue\n",
    "        \n",
    "        visited[cur] = cur\n",
    "        for neighbour in cur.expand_cell():\n",
    "            neighbour.calc_cost()\n",
    "            if neighbour in visited:\n",
    "                if visited[cur].cost < neighbour.cost: continue\n",
    "            my_queue.push(neighbour)\n",
    "\n",
    "    # cur = min(goals, key=lambda x: x.cost)\n",
    "    # traceback = path_traceback(start_node, cur) if do_traceback else None\n",
    "    # return cur, traceback\n",
    "    return goals"
   ]
  },
  {
   "cell_type": "code",
   "execution_count": 9,
   "metadata": {},
   "outputs": [],
   "source": [
    "dirty = [Position(1, 1),\n",
    "         Position(1, 6),\n",
    "         Position(3, 8),\n",
    "         Position(5, 8),\n",
    "         Position(8, 6)]\n",
    "start = Position(4, 5)\n",
    "grid_dim = (8, 8)"
   ]
  },
  {
   "cell_type": "code",
   "execution_count": 48,
   "metadata": {},
   "outputs": [],
   "source": [
    "goal = astar_vacuum(grid_dim, dirty, start, do_traceback=True)"
   ]
  },
  {
   "cell_type": "code",
   "execution_count": 54,
   "metadata": {},
   "outputs": [
    {
     "data": {
      "text/plain": [
       "105"
      ]
     },
     "execution_count": 54,
     "metadata": {},
     "output_type": "execute_result"
    }
   ],
   "source": [
    "goal[4].cost"
   ]
  },
  {
   "cell_type": "code",
   "execution_count": null,
   "metadata": {},
   "outputs": [],
   "source": [
    "start_node = Cell(start, 'move', 'clean', grid_dim, dirty)\n",
    "start_node.calc_cost()\n",
    "for cell in path_traceback(start_node, goal[1]):\n",
    "    print(cell.action, cell.position, cell.cost)"
   ]
  },
  {
   "cell_type": "code",
   "execution_count": 55,
   "metadata": {},
   "outputs": [],
   "source": [
    "start_node = Cell(start, 'move', 'clean', grid_dim, dirty)\n",
    "start_node.calc_cost()\n",
    "next_cell = start_node.expand_cell()"
   ]
  },
  {
   "cell_type": "code",
   "execution_count": null,
   "metadata": {},
   "outputs": [
    {
     "data": {
      "text/plain": [
       "(5, 5)"
      ]
     },
     "execution_count": 66,
     "metadata": {},
     "output_type": "execute_result"
    }
   ],
   "source": [
    "next_cell[2]"
   ]
  }
 ],
 "metadata": {
  "kernelspec": {
   "display_name": "Python 3",
   "language": "python",
   "name": "python3"
  },
  "language_info": {
   "codemirror_mode": {
    "name": "ipython",
    "version": 3
   },
   "file_extension": ".py",
   "mimetype": "text/x-python",
   "name": "python",
   "nbconvert_exporter": "python",
   "pygments_lexer": "ipython3",
   "version": "3.12.1"
  }
 },
 "nbformat": 4,
 "nbformat_minor": 2
}
