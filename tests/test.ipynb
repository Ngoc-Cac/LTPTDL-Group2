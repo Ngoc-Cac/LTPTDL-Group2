{
 "cells": [
  {
   "cell_type": "code",
   "execution_count": 1,
   "metadata": {},
   "outputs": [],
   "source": [
    "import sys\n",
    "sys.path.append(r'.\\..')"
   ]
  },
  {
   "cell_type": "code",
   "execution_count": 2,
   "metadata": {},
   "outputs": [],
   "source": [
    "import pandas as pd\n",
    "import numpy as np\n",
    "import os.path as osp\n",
    "import random as rand\n",
    "import networkx as nx\n",
    "import matplotlib.pyplot as plt\n",
    "\n",
    "from collections import defaultdict\n",
    "\n",
    "from FinalCode.algorithms import dijkstra, astar\n",
    "from FinalCode.Node import Node"
   ]
  },
  {
   "cell_type": "code",
   "execution_count": 3,
   "metadata": {},
   "outputs": [],
   "source": [
    "def random_color() -> tuple[int, int, int]:\n",
    "    return tuple([rand.random() * 255, rand.random() * 255, rand.random() * 255])"
   ]
  },
  {
   "cell_type": "code",
   "execution_count": 4,
   "metadata": {},
   "outputs": [
    {
     "name": "stdout",
     "output_type": "stream",
     "text": [
      "   name\n",
      "0     0\n",
      "1     1\n",
      "2     2\n",
      "3     3\n",
      "4     4\n"
     ]
    },
    {
     "data": {
      "text/html": [
       "<div>\n",
       "<style scoped>\n",
       "    .dataframe tbody tr th:only-of-type {\n",
       "        vertical-align: middle;\n",
       "    }\n",
       "\n",
       "    .dataframe tbody tr th {\n",
       "        vertical-align: top;\n",
       "    }\n",
       "\n",
       "    .dataframe thead th {\n",
       "        text-align: right;\n",
       "    }\n",
       "</style>\n",
       "<table border=\"1\" class=\"dataframe\">\n",
       "  <thead>\n",
       "    <tr style=\"text-align: right;\">\n",
       "      <th></th>\n",
       "      <th>Id</th>\n",
       "      <th>node_start</th>\n",
       "      <th>node_end</th>\n",
       "      <th>weight</th>\n",
       "    </tr>\n",
       "  </thead>\n",
       "  <tbody>\n",
       "    <tr>\n",
       "      <th>0</th>\n",
       "      <td>0</td>\n",
       "      <td>0</td>\n",
       "      <td>2</td>\n",
       "      <td>2.00</td>\n",
       "    </tr>\n",
       "    <tr>\n",
       "      <th>1</th>\n",
       "      <td>0</td>\n",
       "      <td>0</td>\n",
       "      <td>1</td>\n",
       "      <td>3.00</td>\n",
       "    </tr>\n",
       "    <tr>\n",
       "      <th>2</th>\n",
       "      <td>1</td>\n",
       "      <td>2</td>\n",
       "      <td>3</td>\n",
       "      <td>3.02</td>\n",
       "    </tr>\n",
       "    <tr>\n",
       "      <th>3</th>\n",
       "      <td>2</td>\n",
       "      <td>3</td>\n",
       "      <td>0</td>\n",
       "      <td>2.09</td>\n",
       "    </tr>\n",
       "    <tr>\n",
       "      <th>4</th>\n",
       "      <td>0</td>\n",
       "      <td>3</td>\n",
       "      <td>5</td>\n",
       "      <td>2.50</td>\n",
       "    </tr>\n",
       "    <tr>\n",
       "      <th>5</th>\n",
       "      <td>3</td>\n",
       "      <td>1</td>\n",
       "      <td>4</td>\n",
       "      <td>2.00</td>\n",
       "    </tr>\n",
       "    <tr>\n",
       "      <th>6</th>\n",
       "      <td>0</td>\n",
       "      <td>1</td>\n",
       "      <td>7</td>\n",
       "      <td>1.50</td>\n",
       "    </tr>\n",
       "    <tr>\n",
       "      <th>7</th>\n",
       "      <td>0</td>\n",
       "      <td>4</td>\n",
       "      <td>5</td>\n",
       "      <td>2.00</td>\n",
       "    </tr>\n",
       "    <tr>\n",
       "      <th>8</th>\n",
       "      <td>4</td>\n",
       "      <td>5</td>\n",
       "      <td>6</td>\n",
       "      <td>0.00</td>\n",
       "    </tr>\n",
       "    <tr>\n",
       "      <th>9</th>\n",
       "      <td>5</td>\n",
       "      <td>7</td>\n",
       "      <td>9</td>\n",
       "      <td>1.00</td>\n",
       "    </tr>\n",
       "    <tr>\n",
       "      <th>10</th>\n",
       "      <td>0</td>\n",
       "      <td>7</td>\n",
       "      <td>8</td>\n",
       "      <td>3.00</td>\n",
       "    </tr>\n",
       "    <tr>\n",
       "      <th>11</th>\n",
       "      <td>6</td>\n",
       "      <td>8</td>\n",
       "      <td>0</td>\n",
       "      <td>1.30</td>\n",
       "    </tr>\n",
       "    <tr>\n",
       "      <th>12</th>\n",
       "      <td>0</td>\n",
       "      <td>9</td>\n",
       "      <td>6</td>\n",
       "      <td>4.00</td>\n",
       "    </tr>\n",
       "  </tbody>\n",
       "</table>\n",
       "</div>"
      ],
      "text/plain": [
       "    Id  node_start  node_end  weight\n",
       "0    0           0         2    2.00\n",
       "1    0           0         1    3.00\n",
       "2    1           2         3    3.02\n",
       "3    2           3         0    2.09\n",
       "4    0           3         5    2.50\n",
       "5    3           1         4    2.00\n",
       "6    0           1         7    1.50\n",
       "7    0           4         5    2.00\n",
       "8    4           5         6    0.00\n",
       "9    5           7         9    1.00\n",
       "10   0           7         8    3.00\n",
       "11   6           8         0    1.30\n",
       "12   0           9         6    4.00"
      ]
     },
     "execution_count": 4,
     "metadata": {},
     "output_type": "execute_result"
    }
   ],
   "source": [
    "csvnodes = pd.read_csv(osp.join('.', 'nodes.csv'))\n",
    "csvedges = pd.read_csv(osp.join('.', 'edges.csv'))\n",
    "print(csvnodes.head())\n",
    "csvedges"
   ]
  },
  {
   "cell_type": "code",
   "execution_count": 5,
   "metadata": {},
   "outputs": [
    {
     "name": "stdout",
     "output_type": "stream",
     "text": [
      "{'0': <__main__.MyNode object at 0x00000212CBB20C50>, '1': <__main__.MyNode object at 0x00000212CBB20E30>, '2': <__main__.MyNode object at 0x00000212CBB20D10>, '3': <__main__.MyNode object at 0x00000212CBB20BF0>, '4': <__main__.MyNode object at 0x00000212CBB20AD0>, '5': <__main__.MyNode object at 0x00000212CBB20DD0>, '6': <__main__.MyNode object at 0x00000212CBB20CB0>, '7': <__main__.MyNode object at 0x00000212CBB20B90>, '8': <__main__.MyNode object at 0x00000212CBB20A70>, '9': <__main__.MyNode object at 0x00000212CBB20B30>}\n"
     ]
    },
    {
     "data": {
      "text/html": [
       "<div>\n",
       "<style scoped>\n",
       "    .dataframe tbody tr th:only-of-type {\n",
       "        vertical-align: middle;\n",
       "    }\n",
       "\n",
       "    .dataframe tbody tr th {\n",
       "        vertical-align: top;\n",
       "    }\n",
       "\n",
       "    .dataframe thead th {\n",
       "        text-align: right;\n",
       "    }\n",
       "</style>\n",
       "<table border=\"1\" class=\"dataframe\">\n",
       "  <thead>\n",
       "    <tr style=\"text-align: right;\">\n",
       "      <th></th>\n",
       "      <th>0</th>\n",
       "      <th>1</th>\n",
       "      <th>2</th>\n",
       "      <th>3</th>\n",
       "      <th>4</th>\n",
       "      <th>5</th>\n",
       "      <th>6</th>\n",
       "      <th>7</th>\n",
       "      <th>8</th>\n",
       "      <th>9</th>\n",
       "    </tr>\n",
       "  </thead>\n",
       "  <tbody>\n",
       "    <tr>\n",
       "      <th>0</th>\n",
       "      <td>0.00</td>\n",
       "      <td>3.0</td>\n",
       "      <td>2.00</td>\n",
       "      <td>2.09</td>\n",
       "      <td>0.0</td>\n",
       "      <td>0.0</td>\n",
       "      <td>0.0</td>\n",
       "      <td>0.0</td>\n",
       "      <td>1.3</td>\n",
       "      <td>0.0</td>\n",
       "    </tr>\n",
       "    <tr>\n",
       "      <th>1</th>\n",
       "      <td>3.00</td>\n",
       "      <td>0.0</td>\n",
       "      <td>0.00</td>\n",
       "      <td>0.00</td>\n",
       "      <td>2.0</td>\n",
       "      <td>0.0</td>\n",
       "      <td>0.0</td>\n",
       "      <td>1.5</td>\n",
       "      <td>0.0</td>\n",
       "      <td>0.0</td>\n",
       "    </tr>\n",
       "    <tr>\n",
       "      <th>2</th>\n",
       "      <td>2.00</td>\n",
       "      <td>0.0</td>\n",
       "      <td>0.00</td>\n",
       "      <td>3.02</td>\n",
       "      <td>0.0</td>\n",
       "      <td>0.0</td>\n",
       "      <td>0.0</td>\n",
       "      <td>0.0</td>\n",
       "      <td>0.0</td>\n",
       "      <td>0.0</td>\n",
       "    </tr>\n",
       "    <tr>\n",
       "      <th>3</th>\n",
       "      <td>2.09</td>\n",
       "      <td>0.0</td>\n",
       "      <td>3.02</td>\n",
       "      <td>0.00</td>\n",
       "      <td>0.0</td>\n",
       "      <td>2.5</td>\n",
       "      <td>0.0</td>\n",
       "      <td>0.0</td>\n",
       "      <td>0.0</td>\n",
       "      <td>0.0</td>\n",
       "    </tr>\n",
       "    <tr>\n",
       "      <th>4</th>\n",
       "      <td>0.00</td>\n",
       "      <td>2.0</td>\n",
       "      <td>0.00</td>\n",
       "      <td>0.00</td>\n",
       "      <td>0.0</td>\n",
       "      <td>2.0</td>\n",
       "      <td>0.0</td>\n",
       "      <td>0.0</td>\n",
       "      <td>0.0</td>\n",
       "      <td>0.0</td>\n",
       "    </tr>\n",
       "    <tr>\n",
       "      <th>5</th>\n",
       "      <td>0.00</td>\n",
       "      <td>0.0</td>\n",
       "      <td>0.00</td>\n",
       "      <td>2.50</td>\n",
       "      <td>2.0</td>\n",
       "      <td>0.0</td>\n",
       "      <td>0.0</td>\n",
       "      <td>0.0</td>\n",
       "      <td>0.0</td>\n",
       "      <td>0.0</td>\n",
       "    </tr>\n",
       "    <tr>\n",
       "      <th>6</th>\n",
       "      <td>0.00</td>\n",
       "      <td>0.0</td>\n",
       "      <td>0.00</td>\n",
       "      <td>0.00</td>\n",
       "      <td>0.0</td>\n",
       "      <td>0.0</td>\n",
       "      <td>0.0</td>\n",
       "      <td>0.0</td>\n",
       "      <td>0.0</td>\n",
       "      <td>4.0</td>\n",
       "    </tr>\n",
       "    <tr>\n",
       "      <th>7</th>\n",
       "      <td>0.00</td>\n",
       "      <td>1.5</td>\n",
       "      <td>0.00</td>\n",
       "      <td>0.00</td>\n",
       "      <td>0.0</td>\n",
       "      <td>0.0</td>\n",
       "      <td>0.0</td>\n",
       "      <td>0.0</td>\n",
       "      <td>3.0</td>\n",
       "      <td>1.0</td>\n",
       "    </tr>\n",
       "    <tr>\n",
       "      <th>8</th>\n",
       "      <td>1.30</td>\n",
       "      <td>0.0</td>\n",
       "      <td>0.00</td>\n",
       "      <td>0.00</td>\n",
       "      <td>0.0</td>\n",
       "      <td>0.0</td>\n",
       "      <td>0.0</td>\n",
       "      <td>3.0</td>\n",
       "      <td>0.0</td>\n",
       "      <td>0.0</td>\n",
       "    </tr>\n",
       "    <tr>\n",
       "      <th>9</th>\n",
       "      <td>0.00</td>\n",
       "      <td>0.0</td>\n",
       "      <td>0.00</td>\n",
       "      <td>0.00</td>\n",
       "      <td>0.0</td>\n",
       "      <td>0.0</td>\n",
       "      <td>4.0</td>\n",
       "      <td>1.0</td>\n",
       "      <td>0.0</td>\n",
       "      <td>0.0</td>\n",
       "    </tr>\n",
       "  </tbody>\n",
       "</table>\n",
       "</div>"
      ],
      "text/plain": [
       "      0    1     2     3    4    5    6    7    8    9\n",
       "0  0.00  3.0  2.00  2.09  0.0  0.0  0.0  0.0  1.3  0.0\n",
       "1  3.00  0.0  0.00  0.00  2.0  0.0  0.0  1.5  0.0  0.0\n",
       "2  2.00  0.0  0.00  3.02  0.0  0.0  0.0  0.0  0.0  0.0\n",
       "3  2.09  0.0  3.02  0.00  0.0  2.5  0.0  0.0  0.0  0.0\n",
       "4  0.00  2.0  0.00  0.00  0.0  2.0  0.0  0.0  0.0  0.0\n",
       "5  0.00  0.0  0.00  2.50  2.0  0.0  0.0  0.0  0.0  0.0\n",
       "6  0.00  0.0  0.00  0.00  0.0  0.0  0.0  0.0  0.0  4.0\n",
       "7  0.00  1.5  0.00  0.00  0.0  0.0  0.0  0.0  3.0  1.0\n",
       "8  1.30  0.0  0.00  0.00  0.0  0.0  0.0  3.0  0.0  0.0\n",
       "9  0.00  0.0  0.00  0.00  0.0  0.0  4.0  1.0  0.0  0.0"
      ]
     },
     "execution_count": 5,
     "metadata": {},
     "output_type": "execute_result"
    }
   ],
   "source": [
    "class MyNode(Node):\n",
    "    def heuristic(self, other: Node) -> float:\n",
    "        return 0\n",
    "    \n",
    "\n",
    "nodes = {str(row['name']): MyNode(str(int(row['name'])), color=random_color(), weight=rand.random())\n",
    "                           for _, row in csvnodes.iterrows()}\n",
    "edges = np.zeros((len(nodes), len(nodes)))\n",
    "\n",
    "for _, edge in csvedges.iterrows():\n",
    "    edges[int(edge['node_start']), int(edge['node_end'])] = edge['weight']\n",
    "    edges[int(edge['node_end']), int(edge['node_start']),] = edge['weight']\n",
    "    nodes[str(int(edge['node_start']))].neighbours.append(nodes[str(int(edge['node_end']))])\n",
    "\n",
    "edges = pd.DataFrame(edges, index=list(nodes.keys()), columns=list(nodes.keys()))\n",
    "\n",
    "print(nodes)\n",
    "edges"
   ]
  },
  {
   "cell_type": "code",
   "execution_count": 6,
   "metadata": {},
   "outputs": [
    {
     "data": {
      "text/plain": [
       "0                                              None\n",
       "1    <__main__.MyNode object at 0x00000212CBB20C50>\n",
       "2    <__main__.MyNode object at 0x00000212CBB20C50>\n",
       "3    <__main__.MyNode object at 0x00000212CBB20D10>\n",
       "4    <__main__.MyNode object at 0x00000212CBB20E30>\n",
       "5    <__main__.MyNode object at 0x00000212CBB20AD0>\n",
       "6                                              None\n",
       "7    <__main__.MyNode object at 0x00000212CBB20E30>\n",
       "8    <__main__.MyNode object at 0x00000212CBB20B90>\n",
       "9    <__main__.MyNode object at 0x00000212CBB20B90>\n",
       "dtype: object"
      ]
     },
     "execution_count": 6,
     "metadata": {},
     "output_type": "execute_result"
    }
   ],
   "source": [
    "path = dijkstra(list(nodes.values()), edges, nodes['0'], nodes['9'], do_UCS=True)\n",
    "path"
   ]
  },
  {
   "cell_type": "code",
   "execution_count": 7,
   "metadata": {},
   "outputs": [],
   "source": [
    "\n",
    "\n"
   ]
  },
  {
   "cell_type": "code",
   "execution_count": 16,
   "metadata": {},
   "outputs": [
    {
     "data": {
      "text/plain": [
       "0                                              None\n",
       "1    <__main__.MyNode object at 0x00000212CBB20C50>\n",
       "2    <__main__.MyNode object at 0x00000212CBB20C50>\n",
       "3    <__main__.MyNode object at 0x00000212CBB20D10>\n",
       "4    <__main__.MyNode object at 0x00000212CBB20E30>\n",
       "5    <__main__.MyNode object at 0x00000212CBB20AD0>\n",
       "6                                              None\n",
       "7    <__main__.MyNode object at 0x00000212CBB20E30>\n",
       "8    <__main__.MyNode object at 0x00000212CBB20B90>\n",
       "9    <__main__.MyNode object at 0x00000212CBB20B90>\n",
       "dtype: object"
      ]
     },
     "execution_count": 16,
     "metadata": {},
     "output_type": "execute_result"
    }
   ],
   "source": [
    "path = astar(list(nodes.values()), edges, nodes['0'], nodes['9'], manhattan)\n",
    "path"
   ]
  },
  {
   "cell_type": "code",
   "execution_count": 9,
   "metadata": {},
   "outputs": [],
   "source": [
    "shortest_path = [nodes['9']]\n",
    "cur = path['9']\n",
    "while cur != nodes['0']:\n",
    "    shortest_path.append(cur)\n",
    "    cur = path[cur.id]\n",
    "shortest_path.append(nodes['0'])\n",
    "shortest_path = list(reversed(shortest_path))"
   ]
  },
  {
   "cell_type": "code",
   "execution_count": 10,
   "metadata": {},
   "outputs": [
    {
     "name": "stdout",
     "output_type": "stream",
     "text": [
      "0\n",
      "1\n",
      "7\n",
      "9\n"
     ]
    }
   ],
   "source": [
    "for node in shortest_path: print(node.id)"
   ]
  },
  {
   "cell_type": "code",
   "execution_count": 11,
   "metadata": {},
   "outputs": [
    {
     "data": {
      "text/plain": [
       "defaultdict(list,\n",
       "            {0: [2, 1],\n",
       "             2: [3],\n",
       "             3: [0, 5],\n",
       "             1: [4, 7],\n",
       "             4: [5],\n",
       "             5: [6],\n",
       "             7: [9, 8],\n",
       "             8: [0],\n",
       "             9: [6]})"
      ]
     },
     "execution_count": 11,
     "metadata": {},
     "output_type": "execute_result"
    }
   ],
   "source": [
    "temp = defaultdict(list)\n",
    "for _, edge in csvedges.iterrows():\n",
    "    temp[int(edge['node_start'])].append(int(edge['node_end']))\n",
    "temp"
   ]
  },
  {
   "cell_type": "code",
   "execution_count": 12,
   "metadata": {},
   "outputs": [
    {
     "data": {
      "text/plain": [
       "{0: (2.9905645963533374, 2.992443886311348),\n",
       " 1: (3.867985193098287, 3.3985984322682206),\n",
       " 2: (3.434233430338983, 4.267375626005146),\n",
       " 3: (4.678545972859144, 4.15162329676036),\n",
       " 4: (2.9942222237953864, 3.6294366472299933),\n",
       " 5: (2.2050257813229903, 3.547277610027882),\n",
       " 6: (3.0379995594344367, 2.1978510459193363),\n",
       " 7: (4.247953711824879, 3.1170415989427007),\n",
       " 8: (2.4226939459363726, 3.488174248497984),\n",
       " 9: (2.1995029994843884, 3.888502313877432)}"
      ]
     },
     "execution_count": 12,
     "metadata": {},
     "output_type": "execute_result"
    }
   ],
   "source": [
    "node_pos = {}\n",
    "\n",
    "for _, row in csvnodes.iterrows():\n",
    "    node_pos[int(row['name'])] = (2 + rand.random() * 3, 2 + rand.random() * 3)\n",
    "\n",
    "node_pos"
   ]
  },
  {
   "cell_type": "code",
   "execution_count": 13,
   "metadata": {},
   "outputs": [],
   "source": [
    "nx_graph = nx.Graph(temp)\n",
    "edge_labels = {}\n",
    "for edge in list(nx_graph.edges()):\n",
    "    edge_labels[edge] = edges[str(edge[1])][str(edge[0])]"
   ]
  },
  {
   "cell_type": "code",
   "execution_count": 14,
   "metadata": {},
   "outputs": [],
   "source": [
    "edge_colors = {edge: (0, 0, 0) for edge in edge_labels}\n",
    "highlight_edges = []\n",
    "for i, node in enumerate(shortest_path):\n",
    "    if i == (len(shortest_path) - 1): break\n",
    "    edge_colors[(int(node.id), int(shortest_path[i + 1].id))] = (1, 1, 1)\n",
    "    highlight_edges.append((int(node.id), int(shortest_path[i + 1].id)))\n",
    "\n",
    "highlight_edges_color = [(1, 0, 0) for _ in range(len(highlight_edges))]"
   ]
  },
  {
   "cell_type": "code",
   "execution_count": 15,
   "metadata": {},
   "outputs": [
    {
     "data": {
      "text/plain": [
       "{(0, 2): Text(3.212398929208554, 3.629909514379479, '2.0'),\n",
       " (0, 1): Text(3.429268105338582, 3.1955180165091184, '3.0'),\n",
       " (0, 3): Text(3.8345436405901667, 3.572025595296158, '2.09'),\n",
       " (0, 8): Text(2.706638180237178, 3.2403012900920665, '1.3'),\n",
       " (2, 3): Text(4.056392969718858, 4.209499157365502, '3.02'),\n",
       " (3, 5): Text(3.4417927460571107, 3.849452131662209, '2.5'),\n",
       " (1, 4): Text(3.431124426246795, 3.514012066342555, '2.0'),\n",
       " (1, 7): Text(4.057954195569888, 3.2578313209686685, '1.5'),\n",
       " (4, 5): Text(2.599633424111345, 3.5883581094565393, '2.0'),\n",
       " (5, 6): Text(2.621505752958816, 2.872575534268945, '0.0'),\n",
       " (7, 9): Text(3.2237213494348333, 3.502774595000931, '1.0'),\n",
       " (7, 8): Text(3.3353265463922543, 3.30260737116486, '3.0'),\n",
       " (9, 6): Text(2.618752861487029, 3.0431734900737344, '4.0')}"
      ]
     },
     "execution_count": 15,
     "metadata": {},
     "output_type": "execute_result"
    },
    {
     "data": {
      "image/png": "[encoded data removed]",
      "text/plain": [
       "<Figure size 640x480 with 1 Axes>"
      ]
     },
     "metadata": {},
     "output_type": "display_data"
    }
   ],
   "source": [
    "my_ax = plt.subplot()\n",
    "# nx.draw_networkx(nx_graph, ax=my_ax)\n",
    "nx.draw_networkx_nodes(nx_graph, node_pos, ax=my_ax)\n",
    "nx.draw_networkx_labels(nx_graph, node_pos, ax=my_ax)\n",
    "nx.draw_networkx_edges(nx_graph, node_pos,\n",
    "                       edgelist=list(edge_colors.keys()), edge_color=list(edge_colors.values()), ax=my_ax)\n",
    "nx.draw_networkx_edges(nx_graph, node_pos, highlight_edges,\n",
    "                       edge_color=highlight_edges_color,\n",
    "                       arrows=True, arrowstyle='-|>', ax=my_ax)\n",
    "nx.draw_networkx_edge_labels(nx_graph, node_pos, edge_labels=edge_labels, ax=my_ax)\n",
    "\n",
    "# plt.show() "
   ]
  },
  {
   "cell_type": "code",
   "execution_count": null,
   "metadata": {},
   "outputs": [],
   "source": []
  }
 ],
 "metadata": {
  "kernelspec": {
   "display_name": "Python 3",
   "language": "python",
   "name": "python3"
  },
  "language_info": {
   "codemirror_mode": {
    "name": "ipython",
    "version": 3
   },
   "file_extension": ".py",
   "mimetype": "text/x-python",
   "name": "python",
   "nbconvert_exporter": "python",
   "pygments_lexer": "ipython3",
   "version": "3.12.4"
  }
 },
 "nbformat": 4,
 "nbformat_minor": 2
}
