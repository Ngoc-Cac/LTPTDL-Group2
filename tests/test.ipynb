{
 "cells": [
  {
   "cell_type": "code",
   "execution_count": 1,
   "metadata": {},
   "outputs": [],
   "source": [
    "import sys\n",
    "sys.path.append(r'.\\..')"
   ]
  },
  {
   "cell_type": "code",
   "execution_count": null,
   "metadata": {},
   "outputs": [],
   "source": [
    "import pandas as pd\n",
    "import numpy as np\n",
    "import os.path as osp\n",
    "import random as rand\n",
    "import networkx as nx\n",
    "import matplotlib.pyplot as plt\n",
    "\n",
    "from collections import defaultdict\n",
    "\n",
    "from Dijkstra.algorithms import dijkstra, astar\n",
    "from Dijkstra.Node import Node"
   ]
  },
  {
   "cell_type": "code",
   "execution_count": 3,
   "metadata": {},
   "outputs": [],
   "source": [
    "def random_color() -> tuple[int, int, int]:\n",
    "    return tuple([rand.random() * 255, rand.random() * 255, rand.random() * 255])"
   ]
  },
  {
   "cell_type": "code",
   "execution_count": 4,
   "metadata": {},
   "outputs": [
    {
     "name": "stdout",
     "output_type": "stream",
     "text": [
      "   name\n",
      "0     0\n",
      "1     1\n",
      "2     2\n",
      "3     3\n",
      "4     4\n"
     ]
    },
    {
     "data": {
      "text/html": [
       "<div>\n",
       "<style scoped>\n",
       "    .dataframe tbody tr th:only-of-type {\n",
       "        vertical-align: middle;\n",
       "    }\n",
       "\n",
       "    .dataframe tbody tr th {\n",
       "        vertical-align: top;\n",
       "    }\n",
       "\n",
       "    .dataframe thead th {\n",
       "        text-align: right;\n",
       "    }\n",
       "</style>\n",
       "<table border=\"1\" class=\"dataframe\">\n",
       "  <thead>\n",
       "    <tr style=\"text-align: right;\">\n",
       "      <th></th>\n",
       "      <th>Id</th>\n",
       "      <th>node_start</th>\n",
       "      <th>node_end</th>\n",
       "      <th>weight</th>\n",
       "    </tr>\n",
       "  </thead>\n",
       "  <tbody>\n",
       "    <tr>\n",
       "      <th>0</th>\n",
       "      <td>0</td>\n",
       "      <td>0</td>\n",
       "      <td>2</td>\n",
       "      <td>2.00</td>\n",
       "    </tr>\n",
       "    <tr>\n",
       "      <th>1</th>\n",
       "      <td>0</td>\n",
       "      <td>0</td>\n",
       "      <td>1</td>\n",
       "      <td>3.00</td>\n",
       "    </tr>\n",
       "    <tr>\n",
       "      <th>2</th>\n",
       "      <td>1</td>\n",
       "      <td>2</td>\n",
       "      <td>3</td>\n",
       "      <td>3.02</td>\n",
       "    </tr>\n",
       "    <tr>\n",
       "      <th>3</th>\n",
       "      <td>2</td>\n",
       "      <td>3</td>\n",
       "      <td>0</td>\n",
       "      <td>2.09</td>\n",
       "    </tr>\n",
       "    <tr>\n",
       "      <th>4</th>\n",
       "      <td>0</td>\n",
       "      <td>3</td>\n",
       "      <td>5</td>\n",
       "      <td>2.50</td>\n",
       "    </tr>\n",
       "    <tr>\n",
       "      <th>5</th>\n",
       "      <td>3</td>\n",
       "      <td>1</td>\n",
       "      <td>4</td>\n",
       "      <td>2.00</td>\n",
       "    </tr>\n",
       "    <tr>\n",
       "      <th>6</th>\n",
       "      <td>0</td>\n",
       "      <td>1</td>\n",
       "      <td>7</td>\n",
       "      <td>1.50</td>\n",
       "    </tr>\n",
       "    <tr>\n",
       "      <th>7</th>\n",
       "      <td>0</td>\n",
       "      <td>4</td>\n",
       "      <td>5</td>\n",
       "      <td>2.00</td>\n",
       "    </tr>\n",
       "    <tr>\n",
       "      <th>8</th>\n",
       "      <td>4</td>\n",
       "      <td>5</td>\n",
       "      <td>6</td>\n",
       "      <td>0.00</td>\n",
       "    </tr>\n",
       "    <tr>\n",
       "      <th>9</th>\n",
       "      <td>5</td>\n",
       "      <td>7</td>\n",
       "      <td>9</td>\n",
       "      <td>1.00</td>\n",
       "    </tr>\n",
       "    <tr>\n",
       "      <th>10</th>\n",
       "      <td>0</td>\n",
       "      <td>7</td>\n",
       "      <td>8</td>\n",
       "      <td>3.00</td>\n",
       "    </tr>\n",
       "    <tr>\n",
       "      <th>11</th>\n",
       "      <td>6</td>\n",
       "      <td>8</td>\n",
       "      <td>0</td>\n",
       "      <td>1.30</td>\n",
       "    </tr>\n",
       "    <tr>\n",
       "      <th>12</th>\n",
       "      <td>0</td>\n",
       "      <td>9</td>\n",
       "      <td>6</td>\n",
       "      <td>4.00</td>\n",
       "    </tr>\n",
       "  </tbody>\n",
       "</table>\n",
       "</div>"
      ],
      "text/plain": [
       "    Id  node_start  node_end  weight\n",
       "0    0           0         2    2.00\n",
       "1    0           0         1    3.00\n",
       "2    1           2         3    3.02\n",
       "3    2           3         0    2.09\n",
       "4    0           3         5    2.50\n",
       "5    3           1         4    2.00\n",
       "6    0           1         7    1.50\n",
       "7    0           4         5    2.00\n",
       "8    4           5         6    0.00\n",
       "9    5           7         9    1.00\n",
       "10   0           7         8    3.00\n",
       "11   6           8         0    1.30\n",
       "12   0           9         6    4.00"
      ]
     },
     "execution_count": 4,
     "metadata": {},
     "output_type": "execute_result"
    }
   ],
   "source": [
    "csvnodes = pd.read_csv(osp.join('.', 'nodes.csv'))\n",
    "csvedges = pd.read_csv(osp.join('.', 'edges.csv'))\n",
    "print(csvnodes.head())\n",
    "csvedges"
   ]
  },
  {
   "cell_type": "code",
   "execution_count": 5,
   "metadata": {},
   "outputs": [
    {
     "name": "stdout",
     "output_type": "stream",
     "text": [
      "{'0': <__main__.MyNode object at 0x000002D22A9C1970>, '1': <__main__.MyNode object at 0x000002D22A9C18B0>, '2': <__main__.MyNode object at 0x000002D22A9C1A30>, '3': <__main__.MyNode object at 0x000002D22A9C1AF0>, '4': <__main__.MyNode object at 0x000002D22A9C1B50>, '5': <__main__.MyNode object at 0x000002D22A9C1910>, '6': <__main__.MyNode object at 0x000002D22A9C1A90>, '7': <__main__.MyNode object at 0x000002D22A9C1BB0>, '8': <__main__.MyNode object at 0x000002D22A9C1C10>, '9': <__main__.MyNode object at 0x000002D22A9C1C70>}\n"
     ]
    },
    {
     "data": {
      "text/html": [
       "<div>\n",
       "<style scoped>\n",
       "    .dataframe tbody tr th:only-of-type {\n",
       "        vertical-align: middle;\n",
       "    }\n",
       "\n",
       "    .dataframe tbody tr th {\n",
       "        vertical-align: top;\n",
       "    }\n",
       "\n",
       "    .dataframe thead th {\n",
       "        text-align: right;\n",
       "    }\n",
       "</style>\n",
       "<table border=\"1\" class=\"dataframe\">\n",
       "  <thead>\n",
       "    <tr style=\"text-align: right;\">\n",
       "      <th></th>\n",
       "      <th>0</th>\n",
       "      <th>1</th>\n",
       "      <th>2</th>\n",
       "      <th>3</th>\n",
       "      <th>4</th>\n",
       "      <th>5</th>\n",
       "      <th>6</th>\n",
       "      <th>7</th>\n",
       "      <th>8</th>\n",
       "      <th>9</th>\n",
       "    </tr>\n",
       "  </thead>\n",
       "  <tbody>\n",
       "    <tr>\n",
       "      <th>0</th>\n",
       "      <td>0.00</td>\n",
       "      <td>3.0</td>\n",
       "      <td>2.00</td>\n",
       "      <td>2.09</td>\n",
       "      <td>0.0</td>\n",
       "      <td>0.0</td>\n",
       "      <td>0.0</td>\n",
       "      <td>0.0</td>\n",
       "      <td>1.3</td>\n",
       "      <td>0.0</td>\n",
       "    </tr>\n",
       "    <tr>\n",
       "      <th>1</th>\n",
       "      <td>3.00</td>\n",
       "      <td>0.0</td>\n",
       "      <td>0.00</td>\n",
       "      <td>0.00</td>\n",
       "      <td>2.0</td>\n",
       "      <td>0.0</td>\n",
       "      <td>0.0</td>\n",
       "      <td>1.5</td>\n",
       "      <td>0.0</td>\n",
       "      <td>0.0</td>\n",
       "    </tr>\n",
       "    <tr>\n",
       "      <th>2</th>\n",
       "      <td>2.00</td>\n",
       "      <td>0.0</td>\n",
       "      <td>0.00</td>\n",
       "      <td>3.02</td>\n",
       "      <td>0.0</td>\n",
       "      <td>0.0</td>\n",
       "      <td>0.0</td>\n",
       "      <td>0.0</td>\n",
       "      <td>0.0</td>\n",
       "      <td>0.0</td>\n",
       "    </tr>\n",
       "    <tr>\n",
       "      <th>3</th>\n",
       "      <td>2.09</td>\n",
       "      <td>0.0</td>\n",
       "      <td>3.02</td>\n",
       "      <td>0.00</td>\n",
       "      <td>0.0</td>\n",
       "      <td>2.5</td>\n",
       "      <td>0.0</td>\n",
       "      <td>0.0</td>\n",
       "      <td>0.0</td>\n",
       "      <td>0.0</td>\n",
       "    </tr>\n",
       "    <tr>\n",
       "      <th>4</th>\n",
       "      <td>0.00</td>\n",
       "      <td>2.0</td>\n",
       "      <td>0.00</td>\n",
       "      <td>0.00</td>\n",
       "      <td>0.0</td>\n",
       "      <td>2.0</td>\n",
       "      <td>0.0</td>\n",
       "      <td>0.0</td>\n",
       "      <td>0.0</td>\n",
       "      <td>0.0</td>\n",
       "    </tr>\n",
       "    <tr>\n",
       "      <th>5</th>\n",
       "      <td>0.00</td>\n",
       "      <td>0.0</td>\n",
       "      <td>0.00</td>\n",
       "      <td>2.50</td>\n",
       "      <td>2.0</td>\n",
       "      <td>0.0</td>\n",
       "      <td>0.0</td>\n",
       "      <td>0.0</td>\n",
       "      <td>0.0</td>\n",
       "      <td>0.0</td>\n",
       "    </tr>\n",
       "    <tr>\n",
       "      <th>6</th>\n",
       "      <td>0.00</td>\n",
       "      <td>0.0</td>\n",
       "      <td>0.00</td>\n",
       "      <td>0.00</td>\n",
       "      <td>0.0</td>\n",
       "      <td>0.0</td>\n",
       "      <td>0.0</td>\n",
       "      <td>0.0</td>\n",
       "      <td>0.0</td>\n",
       "      <td>4.0</td>\n",
       "    </tr>\n",
       "    <tr>\n",
       "      <th>7</th>\n",
       "      <td>0.00</td>\n",
       "      <td>1.5</td>\n",
       "      <td>0.00</td>\n",
       "      <td>0.00</td>\n",
       "      <td>0.0</td>\n",
       "      <td>0.0</td>\n",
       "      <td>0.0</td>\n",
       "      <td>0.0</td>\n",
       "      <td>3.0</td>\n",
       "      <td>1.0</td>\n",
       "    </tr>\n",
       "    <tr>\n",
       "      <th>8</th>\n",
       "      <td>1.30</td>\n",
       "      <td>0.0</td>\n",
       "      <td>0.00</td>\n",
       "      <td>0.00</td>\n",
       "      <td>0.0</td>\n",
       "      <td>0.0</td>\n",
       "      <td>0.0</td>\n",
       "      <td>3.0</td>\n",
       "      <td>0.0</td>\n",
       "      <td>0.0</td>\n",
       "    </tr>\n",
       "    <tr>\n",
       "      <th>9</th>\n",
       "      <td>0.00</td>\n",
       "      <td>0.0</td>\n",
       "      <td>0.00</td>\n",
       "      <td>0.00</td>\n",
       "      <td>0.0</td>\n",
       "      <td>0.0</td>\n",
       "      <td>4.0</td>\n",
       "      <td>1.0</td>\n",
       "      <td>0.0</td>\n",
       "      <td>0.0</td>\n",
       "    </tr>\n",
       "  </tbody>\n",
       "</table>\n",
       "</div>"
      ],
      "text/plain": [
       "      0    1     2     3    4    5    6    7    8    9\n",
       "0  0.00  3.0  2.00  2.09  0.0  0.0  0.0  0.0  1.3  0.0\n",
       "1  3.00  0.0  0.00  0.00  2.0  0.0  0.0  1.5  0.0  0.0\n",
       "2  2.00  0.0  0.00  3.02  0.0  0.0  0.0  0.0  0.0  0.0\n",
       "3  2.09  0.0  3.02  0.00  0.0  2.5  0.0  0.0  0.0  0.0\n",
       "4  0.00  2.0  0.00  0.00  0.0  2.0  0.0  0.0  0.0  0.0\n",
       "5  0.00  0.0  0.00  2.50  2.0  0.0  0.0  0.0  0.0  0.0\n",
       "6  0.00  0.0  0.00  0.00  0.0  0.0  0.0  0.0  0.0  4.0\n",
       "7  0.00  1.5  0.00  0.00  0.0  0.0  0.0  0.0  3.0  1.0\n",
       "8  1.30  0.0  0.00  0.00  0.0  0.0  0.0  3.0  0.0  0.0\n",
       "9  0.00  0.0  0.00  0.00  0.0  0.0  4.0  1.0  0.0  0.0"
      ]
     },
     "execution_count": 5,
     "metadata": {},
     "output_type": "execute_result"
    }
   ],
   "source": [
    "class MyNode(Node):\n",
    "    def heuristic(self, other: Node) -> float:\n",
    "        return 0\n",
    "    \n",
    "\n",
    "nodes = {str(row['name']): MyNode(str(int(row['name'])), color=random_color(), weight=rand.random())\n",
    "                           for _, row in csvnodes.iterrows()}\n",
    "edges = np.zeros((len(nodes), len(nodes)))\n",
    "\n",
    "for _, edge in csvedges.iterrows():\n",
    "    edges[int(edge['node_start']), int(edge['node_end'])] = edge['weight']\n",
    "    edges[int(edge['node_end']), int(edge['node_start']),] = edge['weight']\n",
    "    nodes[str(int(edge['node_start']))].neighbours.append(nodes[str(int(edge['node_end']))])\n",
    "\n",
    "edges = pd.DataFrame(edges, index=list(nodes.keys()), columns=list(nodes.keys()))\n",
    "\n",
    "print(nodes)\n",
    "edges"
   ]
  },
  {
   "cell_type": "code",
   "execution_count": 6,
   "metadata": {},
   "outputs": [
    {
     "data": {
      "text/plain": [
       "0                                              None\n",
       "1    <__main__.MyNode object at 0x000002D22A9C1970>\n",
       "2    <__main__.MyNode object at 0x000002D22A9C1970>\n",
       "3    <__main__.MyNode object at 0x000002D22A9C1A30>\n",
       "4    <__main__.MyNode object at 0x000002D22A9C18B0>\n",
       "5    <__main__.MyNode object at 0x000002D22A9C1B50>\n",
       "6                                              None\n",
       "7    <__main__.MyNode object at 0x000002D22A9C18B0>\n",
       "8    <__main__.MyNode object at 0x000002D22A9C1BB0>\n",
       "9    <__main__.MyNode object at 0x000002D22A9C1BB0>\n",
       "dtype: object"
      ]
     },
     "execution_count": 6,
     "metadata": {},
     "output_type": "execute_result"
    }
   ],
   "source": [
    "path = dijkstra(list(nodes.values()), edges, nodes['0'], nodes['9'], do_UCS=True)\n",
    "path"
   ]
  },
  {
   "cell_type": "code",
   "execution_count": 7,
   "metadata": {},
   "outputs": [
    {
     "data": {
      "text/plain": [
       "0    <__main__.MyNode object at 0x000002D22A9C1AF0>\n",
       "1    <__main__.MyNode object at 0x000002D22A9C1970>\n",
       "2    <__main__.MyNode object at 0x000002D22A9C1970>\n",
       "3    <__main__.MyNode object at 0x000002D22A9C1A30>\n",
       "4    <__main__.MyNode object at 0x000002D22A9C18B0>\n",
       "5    <__main__.MyNode object at 0x000002D22A9C1B50>\n",
       "6                                              None\n",
       "7    <__main__.MyNode object at 0x000002D22A9C18B0>\n",
       "8    <__main__.MyNode object at 0x000002D22A9C1BB0>\n",
       "9    <__main__.MyNode object at 0x000002D22A9C1BB0>\n",
       "dtype: object"
      ]
     },
     "execution_count": 7,
     "metadata": {},
     "output_type": "execute_result"
    }
   ],
   "source": [
    "path = astar(list(nodes.values()), edges, nodes['0'], nodes['9'])\n",
    "path"
   ]
  },
  {
   "cell_type": "code",
   "execution_count": 8,
   "metadata": {},
   "outputs": [],
   "source": [
    "shortest_path = [nodes['9']]\n",
    "cur = path['9']\n",
    "while cur != nodes['0']:\n",
    "    shortest_path.append(cur)\n",
    "    cur = path[cur.id]\n",
    "shortest_path.append(nodes['0'])\n",
    "shortest_path = list(reversed(shortest_path))"
   ]
  },
  {
   "cell_type": "code",
   "execution_count": 9,
   "metadata": {},
   "outputs": [
    {
     "name": "stdout",
     "output_type": "stream",
     "text": [
      "0\n",
      "1\n",
      "7\n",
      "9\n"
     ]
    }
   ],
   "source": [
    "for node in shortest_path: print(node.id)"
   ]
  },
  {
   "cell_type": "code",
   "execution_count": 10,
   "metadata": {},
   "outputs": [
    {
     "data": {
      "text/plain": [
       "defaultdict(list,\n",
       "            {0: [2, 1],\n",
       "             2: [3],\n",
       "             3: [0, 5],\n",
       "             1: [4, 7],\n",
       "             4: [5],\n",
       "             5: [6],\n",
       "             7: [9, 8],\n",
       "             8: [0],\n",
       "             9: [6]})"
      ]
     },
     "execution_count": 10,
     "metadata": {},
     "output_type": "execute_result"
    }
   ],
   "source": [
    "temp = defaultdict(list)\n",
    "for _, edge in csvedges.iterrows():\n",
    "    temp[int(edge['node_start'])].append(int(edge['node_end']))\n",
    "temp"
   ]
  },
  {
   "cell_type": "code",
   "execution_count": 11,
   "metadata": {},
   "outputs": [
    {
     "data": {
      "text/plain": [
       "{0: (2.3838904847996423, 2.6653445224087515),\n",
       " 1: (4.641715982610636, 2.593756778893029),\n",
       " 2: (2.617332239792164, 4.44393065027274),\n",
       " 3: (2.1028079428967406, 4.626462254330077),\n",
       " 4: (3.9756367080189063, 4.003878856257662),\n",
       " 5: (3.7765801599648046, 3.075406007557405),\n",
       " 6: (3.7291696282319435, 4.018962784393038),\n",
       " 7: (2.1188829706885732, 3.442626978463198),\n",
       " 8: (3.5697195308596648, 4.85640498940886),\n",
       " 9: (2.77271724725671, 2.4359428462874892)}"
      ]
     },
     "execution_count": 11,
     "metadata": {},
     "output_type": "execute_result"
    }
   ],
   "source": [
    "node_pos = {}\n",
    "\n",
    "for _, row in csvnodes.iterrows():\n",
    "    node_pos[int(row['name'])] = (2 + rand.random() * 3, 2 + rand.random() * 3)\n",
    "\n",
    "node_pos"
   ]
  },
  {
   "cell_type": "code",
   "execution_count": 16,
   "metadata": {},
   "outputs": [],
   "source": [
    "nx_graph = nx.Graph(temp)\n",
    "edge_labels = {}\n",
    "for edge in list(nx_graph.edges()):\n",
    "    edge_labels[edge] = edges[str(edge[1])][str(edge[0])]"
   ]
  },
  {
   "cell_type": "code",
   "execution_count": 15,
   "metadata": {},
   "outputs": [],
   "source": [
    "edge_colors = {edge: (0, 0, 0) for edge in edge_labels}\n",
    "highlight_edges = []\n",
    "for i, node in enumerate(shortest_path):\n",
    "    if i == (len(shortest_path) - 1): break\n",
    "    edge_colors[(int(node.id), int(shortest_path[i + 1].id))] = (1, 1, 1)\n",
    "    highlight_edges.append((int(node.id), int(shortest_path[i + 1].id)))\n",
    "\n",
    "highlight_edges_color = [(1, 0, 0) for _ in range(len(highlight_edges))]"
   ]
  },
  {
   "cell_type": "code",
   "execution_count": 14,
   "metadata": {},
   "outputs": [
    {
     "data": {
      "text/plain": [
       "{(0, 2): Text(2.500608936793141, 3.554619106503816, '2.0'),\n",
       " (0, 1): Text(3.5128009919617345, 2.6295507217287275, '3.0'),\n",
       " (0, 3): Text(2.243352617525186, 3.6458796408564464, '2.09'),\n",
       " (0, 8): Text(2.9767970768645355, 3.7608601018368795, '1.3'),\n",
       " (2, 3): Text(2.360067067188398, 4.535197525144925, '3.02'),\n",
       " (3, 5): Text(2.93967911587149, 3.8509479714725106, '2.5'),\n",
       " (1, 4): Text(4.308683277477109, 3.298803141852005, '2.0'),\n",
       " (1, 7): Text(3.380294049653787, 3.0181937047264498, '1.5'),\n",
       " (4, 5): Text(3.876110817590509, 3.5396535498870945, '2.0'),\n",
       " (5, 6): Text(3.752874733221458, 3.547187597721712, '0.0'),\n",
       " (7, 9): Text(2.445805913451561, 2.9392759754366833, '1.0'),\n",
       " (7, 8): Text(2.8443053055469374, 4.149519935138259, '3.0'),\n",
       " (9, 6): Text(3.250941866544988, 3.2274502148554634, '4.0')}"
      ]
     },
     "execution_count": 14,
     "metadata": {},
     "output_type": "execute_result"
    },
    {
     "data": {
      "image/png": "[encoded data removed]",
      "text/plain": [
       "<Figure size 640x480 with 1 Axes>"
      ]
     },
     "metadata": {},
     "output_type": "display_data"
    }
   ],
   "source": [
    "my_ax = plt.subplot()\n",
    "# nx.draw_networkx(nx_graph, ax=my_ax)\n",
    "nx.draw_networkx_nodes(nx_graph, node_pos, ax=my_ax)\n",
    "nx.draw_networkx_labels(nx_graph, node_pos, ax=my_ax)\n",
    "nx.draw_networkx_edges(nx_graph, node_pos,\n",
    "                       edgelist=list(edge_colors.keys()), edge_color=list(edge_colors.values()), ax=my_ax)\n",
    "nx.draw_networkx_edges(nx_graph, node_pos, highlight_edges,\n",
    "                       edge_color=highlight_edges_color,\n",
    "                       arrows=True, arrowstyle='-|>', ax=my_ax)\n",
    "nx.draw_networkx_edge_labels(nx_graph, node_pos, edge_labels=edge_labels, ax=my_ax)\n",
    "\n",
    "# plt.show() "
   ]
  }
 ],
 "metadata": {
  "kernelspec": {
   "display_name": "Python 3",
   "language": "python",
   "name": "python3"
  },
  "language_info": {
   "codemirror_mode": {
    "name": "ipython",
    "version": 3
   },
   "file_extension": ".py",
   "mimetype": "text/x-python",
   "name": "python",
   "nbconvert_exporter": "python",
   "pygments_lexer": "ipython3",
   "version": "3.12.1"
  }
 },
 "nbformat": 4,
 "nbformat_minor": 2
}
