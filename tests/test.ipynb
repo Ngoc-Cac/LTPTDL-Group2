{
 "cells": [
  {
   "cell_type": "code",
   "execution_count": 1,
   "metadata": {},
   "outputs": [],
   "source": [
    "import sys\n",
    "sys.path.append(r'.\\..')"
   ]
  },
  {
   "cell_type": "code",
   "execution_count": 2,
   "metadata": {},
   "outputs": [],
   "source": [
    "import pandas as pd\n",
    "import numpy as np\n",
    "import os.path as osp\n",
    "import random as rand\n",
    "\n",
    "from FinalCode.algorithms import dijkstra, astar\n",
    "from FinalCode.Node import Node"
   ]
  },
  {
   "cell_type": "code",
   "execution_count": 3,
   "metadata": {},
   "outputs": [],
   "source": [
    "def random_color() -> tuple[int, int, int]:\n",
    "    return tuple([rand.random() * 255, rand.random() * 255, rand.random() * 255])"
   ]
  },
  {
   "cell_type": "code",
   "execution_count": 4,
   "metadata": {},
   "outputs": [
    {
     "name": "stdout",
     "output_type": "stream",
     "text": [
      "   name\n",
      "0     0\n",
      "1     1\n",
      "2     2\n",
      "3     3\n",
      "4     4\n"
     ]
    },
    {
     "data": {
      "text/html": [
       "<div>\n",
       "<style scoped>\n",
       "    .dataframe tbody tr th:only-of-type {\n",
       "        vertical-align: middle;\n",
       "    }\n",
       "\n",
       "    .dataframe tbody tr th {\n",
       "        vertical-align: top;\n",
       "    }\n",
       "\n",
       "    .dataframe thead th {\n",
       "        text-align: right;\n",
       "    }\n",
       "</style>\n",
       "<table border=\"1\" class=\"dataframe\">\n",
       "  <thead>\n",
       "    <tr style=\"text-align: right;\">\n",
       "      <th></th>\n",
       "      <th>Id</th>\n",
       "      <th>node_start</th>\n",
       "      <th>node_end</th>\n",
       "      <th>weight</th>\n",
       "    </tr>\n",
       "  </thead>\n",
       "  <tbody>\n",
       "    <tr>\n",
       "      <th>0</th>\n",
       "      <td>0</td>\n",
       "      <td>0</td>\n",
       "      <td>2</td>\n",
       "      <td>2.00</td>\n",
       "    </tr>\n",
       "    <tr>\n",
       "      <th>1</th>\n",
       "      <td>0</td>\n",
       "      <td>0</td>\n",
       "      <td>1</td>\n",
       "      <td>3.00</td>\n",
       "    </tr>\n",
       "    <tr>\n",
       "      <th>2</th>\n",
       "      <td>1</td>\n",
       "      <td>2</td>\n",
       "      <td>3</td>\n",
       "      <td>3.02</td>\n",
       "    </tr>\n",
       "    <tr>\n",
       "      <th>3</th>\n",
       "      <td>2</td>\n",
       "      <td>3</td>\n",
       "      <td>0</td>\n",
       "      <td>2.09</td>\n",
       "    </tr>\n",
       "    <tr>\n",
       "      <th>4</th>\n",
       "      <td>0</td>\n",
       "      <td>3</td>\n",
       "      <td>5</td>\n",
       "      <td>2.50</td>\n",
       "    </tr>\n",
       "  </tbody>\n",
       "</table>\n",
       "</div>"
      ],
      "text/plain": [
       "   Id  node_start  node_end  weight\n",
       "0   0           0         2    2.00\n",
       "1   0           0         1    3.00\n",
       "2   1           2         3    3.02\n",
       "3   2           3         0    2.09\n",
       "4   0           3         5    2.50"
      ]
     },
     "execution_count": 4,
     "metadata": {},
     "output_type": "execute_result"
    }
   ],
   "source": [
    "csvnodes = pd.read_csv(osp.join('.', 'nodes.csv'))\n",
    "csvedges = pd.read_csv(osp.join('.', 'edges.csv'))\n",
    "print(csvnodes.head())\n",
    "csvedges.head()"
   ]
  },
  {
   "cell_type": "code",
   "execution_count": 5,
   "metadata": {},
   "outputs": [
    {
     "name": "stdout",
     "output_type": "stream",
     "text": [
      "{'0': <__main__.MyNode object at 0x0000019FFA8739B0>, '1': <__main__.MyNode object at 0x0000019FFA8738F0>, '2': <__main__.MyNode object at 0x0000019FFA873A70>, '3': <__main__.MyNode object at 0x0000019FFA873B30>, '4': <__main__.MyNode object at 0x0000019FFA873B90>, '5': <__main__.MyNode object at 0x0000019FFA873950>, '6': <__main__.MyNode object at 0x0000019FFA873AD0>, '7': <__main__.MyNode object at 0x0000019FFA873BF0>, '8': <__main__.MyNode object at 0x0000019FFA873C50>, '9': <__main__.MyNode object at 0x0000019FFA873CB0>}\n"
     ]
    },
    {
     "data": {
      "text/html": [
       "<div>\n",
       "<style scoped>\n",
       "    .dataframe tbody tr th:only-of-type {\n",
       "        vertical-align: middle;\n",
       "    }\n",
       "\n",
       "    .dataframe tbody tr th {\n",
       "        vertical-align: top;\n",
       "    }\n",
       "\n",
       "    .dataframe thead th {\n",
       "        text-align: right;\n",
       "    }\n",
       "</style>\n",
       "<table border=\"1\" class=\"dataframe\">\n",
       "  <thead>\n",
       "    <tr style=\"text-align: right;\">\n",
       "      <th></th>\n",
       "      <th>0</th>\n",
       "      <th>1</th>\n",
       "      <th>2</th>\n",
       "      <th>3</th>\n",
       "      <th>4</th>\n",
       "      <th>5</th>\n",
       "      <th>6</th>\n",
       "      <th>7</th>\n",
       "      <th>8</th>\n",
       "      <th>9</th>\n",
       "    </tr>\n",
       "  </thead>\n",
       "  <tbody>\n",
       "    <tr>\n",
       "      <th>0</th>\n",
       "      <td>0.00</td>\n",
       "      <td>3.0</td>\n",
       "      <td>2.0</td>\n",
       "      <td>0.00</td>\n",
       "      <td>0.0</td>\n",
       "      <td>0.0</td>\n",
       "      <td>0.0</td>\n",
       "      <td>0.0</td>\n",
       "      <td>0.0</td>\n",
       "      <td>0.0</td>\n",
       "    </tr>\n",
       "    <tr>\n",
       "      <th>1</th>\n",
       "      <td>0.00</td>\n",
       "      <td>0.0</td>\n",
       "      <td>0.0</td>\n",
       "      <td>0.00</td>\n",
       "      <td>2.0</td>\n",
       "      <td>0.0</td>\n",
       "      <td>0.0</td>\n",
       "      <td>1.5</td>\n",
       "      <td>0.0</td>\n",
       "      <td>0.0</td>\n",
       "    </tr>\n",
       "    <tr>\n",
       "      <th>2</th>\n",
       "      <td>0.00</td>\n",
       "      <td>0.0</td>\n",
       "      <td>0.0</td>\n",
       "      <td>3.02</td>\n",
       "      <td>0.0</td>\n",
       "      <td>0.0</td>\n",
       "      <td>0.0</td>\n",
       "      <td>0.0</td>\n",
       "      <td>0.0</td>\n",
       "      <td>0.0</td>\n",
       "    </tr>\n",
       "    <tr>\n",
       "      <th>3</th>\n",
       "      <td>2.09</td>\n",
       "      <td>0.0</td>\n",
       "      <td>0.0</td>\n",
       "      <td>0.00</td>\n",
       "      <td>0.0</td>\n",
       "      <td>2.5</td>\n",
       "      <td>0.0</td>\n",
       "      <td>0.0</td>\n",
       "      <td>0.0</td>\n",
       "      <td>0.0</td>\n",
       "    </tr>\n",
       "    <tr>\n",
       "      <th>4</th>\n",
       "      <td>0.00</td>\n",
       "      <td>0.0</td>\n",
       "      <td>0.0</td>\n",
       "      <td>0.00</td>\n",
       "      <td>0.0</td>\n",
       "      <td>2.0</td>\n",
       "      <td>0.0</td>\n",
       "      <td>0.0</td>\n",
       "      <td>0.0</td>\n",
       "      <td>0.0</td>\n",
       "    </tr>\n",
       "    <tr>\n",
       "      <th>5</th>\n",
       "      <td>0.00</td>\n",
       "      <td>0.0</td>\n",
       "      <td>0.0</td>\n",
       "      <td>0.00</td>\n",
       "      <td>0.0</td>\n",
       "      <td>0.0</td>\n",
       "      <td>0.0</td>\n",
       "      <td>0.0</td>\n",
       "      <td>0.0</td>\n",
       "      <td>0.0</td>\n",
       "    </tr>\n",
       "    <tr>\n",
       "      <th>6</th>\n",
       "      <td>0.00</td>\n",
       "      <td>0.0</td>\n",
       "      <td>0.0</td>\n",
       "      <td>0.00</td>\n",
       "      <td>0.0</td>\n",
       "      <td>0.0</td>\n",
       "      <td>0.0</td>\n",
       "      <td>0.0</td>\n",
       "      <td>0.0</td>\n",
       "      <td>0.0</td>\n",
       "    </tr>\n",
       "    <tr>\n",
       "      <th>7</th>\n",
       "      <td>0.00</td>\n",
       "      <td>0.0</td>\n",
       "      <td>0.0</td>\n",
       "      <td>0.00</td>\n",
       "      <td>0.0</td>\n",
       "      <td>0.0</td>\n",
       "      <td>0.0</td>\n",
       "      <td>0.0</td>\n",
       "      <td>3.0</td>\n",
       "      <td>1.0</td>\n",
       "    </tr>\n",
       "    <tr>\n",
       "      <th>8</th>\n",
       "      <td>1.30</td>\n",
       "      <td>0.0</td>\n",
       "      <td>0.0</td>\n",
       "      <td>0.00</td>\n",
       "      <td>0.0</td>\n",
       "      <td>0.0</td>\n",
       "      <td>0.0</td>\n",
       "      <td>0.0</td>\n",
       "      <td>0.0</td>\n",
       "      <td>0.0</td>\n",
       "    </tr>\n",
       "    <tr>\n",
       "      <th>9</th>\n",
       "      <td>0.00</td>\n",
       "      <td>0.0</td>\n",
       "      <td>0.0</td>\n",
       "      <td>0.00</td>\n",
       "      <td>0.0</td>\n",
       "      <td>0.0</td>\n",
       "      <td>4.0</td>\n",
       "      <td>0.0</td>\n",
       "      <td>0.0</td>\n",
       "      <td>0.0</td>\n",
       "    </tr>\n",
       "  </tbody>\n",
       "</table>\n",
       "</div>"
      ],
      "text/plain": [
       "      0    1    2     3    4    5    6    7    8    9\n",
       "0  0.00  3.0  2.0  0.00  0.0  0.0  0.0  0.0  0.0  0.0\n",
       "1  0.00  0.0  0.0  0.00  2.0  0.0  0.0  1.5  0.0  0.0\n",
       "2  0.00  0.0  0.0  3.02  0.0  0.0  0.0  0.0  0.0  0.0\n",
       "3  2.09  0.0  0.0  0.00  0.0  2.5  0.0  0.0  0.0  0.0\n",
       "4  0.00  0.0  0.0  0.00  0.0  2.0  0.0  0.0  0.0  0.0\n",
       "5  0.00  0.0  0.0  0.00  0.0  0.0  0.0  0.0  0.0  0.0\n",
       "6  0.00  0.0  0.0  0.00  0.0  0.0  0.0  0.0  0.0  0.0\n",
       "7  0.00  0.0  0.0  0.00  0.0  0.0  0.0  0.0  3.0  1.0\n",
       "8  1.30  0.0  0.0  0.00  0.0  0.0  0.0  0.0  0.0  0.0\n",
       "9  0.00  0.0  0.0  0.00  0.0  0.0  4.0  0.0  0.0  0.0"
      ]
     },
     "execution_count": 5,
     "metadata": {},
     "output_type": "execute_result"
    }
   ],
   "source": [
    "class MyNode(Node):\n",
    "    def heuristic(self, other: Node) -> float:\n",
    "        return 0\n",
    "    \n",
    "\n",
    "nodes = {str(row['name']): MyNode(str(int(row['name'])), color=random_color(), weight=rand.random())\n",
    "                           for _, row in csvnodes.iterrows()}\n",
    "edges = np.zeros((len(nodes), len(nodes)))\n",
    "\n",
    "for _, edge in csvedges.iterrows():\n",
    "    edges[int(edge['node_start']), int(edge['node_end'])] = edge['weight']\n",
    "    nodes[str(int(edge['node_start']))].neighbours.append(nodes[str(int(edge['node_end']))])\n",
    "\n",
    "edges = pd.DataFrame(edges, index=list(nodes.keys()), columns=list(nodes.keys()))\n",
    "\n",
    "print(nodes)\n",
    "edges"
   ]
  },
  {
   "cell_type": "code",
   "execution_count": 6,
   "metadata": {},
   "outputs": [
    {
     "data": {
      "text/plain": [
       "0                                              None\n",
       "1    <__main__.MyNode object at 0x0000019FFA8739B0>\n",
       "2    <__main__.MyNode object at 0x0000019FFA8739B0>\n",
       "3    <__main__.MyNode object at 0x0000019FFA873A70>\n",
       "4    <__main__.MyNode object at 0x0000019FFA8738F0>\n",
       "5    <__main__.MyNode object at 0x0000019FFA873B90>\n",
       "6                                              None\n",
       "7    <__main__.MyNode object at 0x0000019FFA8738F0>\n",
       "8    <__main__.MyNode object at 0x0000019FFA873BF0>\n",
       "9    <__main__.MyNode object at 0x0000019FFA873BF0>\n",
       "dtype: object"
      ]
     },
     "execution_count": 6,
     "metadata": {},
     "output_type": "execute_result"
    }
   ],
   "source": [
    "path = dijkstra(list(nodes.values()), edges, nodes['0'], nodes['9'], do_UCS=True)\n",
    "path"
   ]
  },
  {
   "cell_type": "code",
   "execution_count": 7,
   "metadata": {},
   "outputs": [
    {
     "data": {
      "text/plain": [
       "0    <__main__.MyNode object at 0x0000019FFA873B30>\n",
       "1    <__main__.MyNode object at 0x0000019FFA8739B0>\n",
       "2    <__main__.MyNode object at 0x0000019FFA8739B0>\n",
       "3    <__main__.MyNode object at 0x0000019FFA873A70>\n",
       "4    <__main__.MyNode object at 0x0000019FFA8738F0>\n",
       "5    <__main__.MyNode object at 0x0000019FFA873B90>\n",
       "6                                              None\n",
       "7    <__main__.MyNode object at 0x0000019FFA8738F0>\n",
       "8    <__main__.MyNode object at 0x0000019FFA873BF0>\n",
       "9    <__main__.MyNode object at 0x0000019FFA873BF0>\n",
       "dtype: object"
      ]
     },
     "execution_count": 7,
     "metadata": {},
     "output_type": "execute_result"
    }
   ],
   "source": [
    "path = astar(list(nodes.values()), edges, nodes['0'], nodes['9'])\n",
    "path"
   ]
  },
  {
   "cell_type": "code",
   "execution_count": 8,
   "metadata": {},
   "outputs": [],
   "source": [
    "shortest_path = [nodes['9']]\n",
    "cur = path['9']\n",
    "while cur != nodes['0']:\n",
    "    shortest_path.append(cur)\n",
    "    cur = path[cur.id]\n",
    "shortest_path.append(nodes['0'])"
   ]
  },
  {
   "cell_type": "code",
   "execution_count": 9,
   "metadata": {},
   "outputs": [
    {
     "name": "stdout",
     "output_type": "stream",
     "text": [
      "0\n",
      "1\n",
      "7\n",
      "9\n"
     ]
    }
   ],
   "source": [
    "for node in shortest_path[::-1]: print(node.id)"
   ]
  }
 ],
 "metadata": {
  "kernelspec": {
   "display_name": "Python 3",
   "language": "python",
   "name": "python3"
  },
  "language_info": {
   "codemirror_mode": {
    "name": "ipython",
    "version": 3
   },
   "file_extension": ".py",
   "mimetype": "text/x-python",
   "name": "python",
   "nbconvert_exporter": "python",
   "pygments_lexer": "ipython3",
   "version": "3.12.1"
  }
 },
 "nbformat": 4,
 "nbformat_minor": 2
}
