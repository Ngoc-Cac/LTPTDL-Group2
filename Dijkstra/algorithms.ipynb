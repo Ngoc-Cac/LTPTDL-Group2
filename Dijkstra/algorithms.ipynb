{
 "cells": [
  {
   "cell_type": "code",
   "execution_count": null,
   "metadata": {},
   "outputs": [],
   "source": [
    "from math import inf\n",
    "from pandas import DataFrame, Series"
   ]
  },
  {
   "cell_type": "code",
   "execution_count": null,
   "metadata": {},
   "outputs": [],
   "source": [
    "from PriorityQueue import PriorityQueue\n",
    "from Node import Node\n",
    "\n",
    "\n",
    "from typing import Iterable, Optional\n",
    "\n",
    "\n",
    "def dijkstra(nodes: Iterable[Node], adjacency_matrix: DataFrame,\n",
    "             source: Node, target: Node, *,\n",
    "             do_UCS: bool = False) -> Series:\n",
    "    my_queue: PriorityQueue[Node] = PriorityQueue()\n",
    "    previous: Series[Optional[Node]] = Series([None] * len(nodes), [node.id for node in nodes])\n",
    "\n",
    "    if do_UCS:\n",
    "        source.distance = 0\n",
    "        my_queue.push(source)\n",
    "    else:\n",
    "        for node in nodes:\n",
    "            if node == source: source.distance = 0\n",
    "            else: node.distance = inf\n",
    "            my_queue.push(node)\n",
    "\n",
    "    while my_queue:\n",
    "        cur = my_queue.pop()\n",
    "\n",
    "        if cur.id == target.id: return previous\n",
    "\n",
    "        for neighbour in cur.neighbours:\n",
    "            other_dist = cur.distance + adjacency_matrix[neighbour.id][cur.id]\n",
    "            if other_dist < neighbour.distance:\n",
    "                neighbour.distance = other_dist\n",
    "                previous[neighbour.id] = cur\n",
    "                my_queue.push(neighbour)\n",
    "\n",
    "    return previous"
   ]
  }
 ],
 "metadata": {
  "kernelspec": {
   "display_name": "Python 3",
   "language": "python",
   "name": "python3"
  },
  "language_info": {
   "name": "python",
   "version": "3.12.1"
  }
 },
 "nbformat": 4,
 "nbformat_minor": 2
}
